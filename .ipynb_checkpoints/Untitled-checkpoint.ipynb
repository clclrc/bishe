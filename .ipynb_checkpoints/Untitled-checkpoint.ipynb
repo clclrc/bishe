{
 "cells": [
  {
   "cell_type": "code",
   "execution_count": 4,
   "id": "2982ad83-ff5c-4950-af27-3739920a11af",
   "metadata": {},
   "outputs": [
    {
     "data": {
      "text/plain": [
       "IncompatibleKeys(missing_keys=[], unexpected_keys=[])"
      ]
     },
     "execution_count": 4,
     "metadata": {},
     "output_type": "execute_result"
    }
   ],
   "source": [
    "import torch\n",
    "from models.ggcnn import GGCNN\n",
    "model = GGCNN()\n",
    "model.load_state_dict(torch.load('ggcnn_weights_cornell/ggcnn_epoch_23_cornell_statedict.pt'))"
   ]
  },
  {
   "cell_type": "code",
   "execution_count": null,
   "id": "fe97b921-d437-4c61-a4e2-8cee74e2ebc0",
   "metadata": {},
   "outputs": [],
   "source": []
  }
 ],
 "metadata": {
  "kernelspec": {
   "display_name": "Python 3 (ipykernel)",
   "language": "python",
   "name": "python3"
  },
  "language_info": {
   "codemirror_mode": {
    "name": "ipython",
    "version": 3
   },
   "file_extension": ".py",
   "mimetype": "text/x-python",
   "name": "python",
   "nbconvert_exporter": "python",
   "pygments_lexer": "ipython3",
   "version": "3.7.9"
  }
 },
 "nbformat": 4,
 "nbformat_minor": 5
}
