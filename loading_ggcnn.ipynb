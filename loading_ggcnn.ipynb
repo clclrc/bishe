{
 "cells": [
  {
   "cell_type": "code",
   "execution_count": 2,
   "id": "08d8c9eb-231b-40fe-8bb1-a12756a8b5e8",
   "metadata": {},
   "outputs": [],
   "source": [
    "import torch\n"
   ]
  },
  {
   "cell_type": "code",
   "execution_count": 3,
   "id": "df72f498-471f-444e-9ac8-991a544228a6",
   "metadata": {},
   "outputs": [
    {
     "name": "stderr",
     "output_type": "stream",
     "text": [
      "/root/miniconda3/lib/python3.7/site-packages/torch/serialization.py:454: SourceChangeWarning: source code of class 'torch.nn.modules.conv.Conv2d' has changed. you can retrieve the original source code by accessing the object's source attribute or set `torch.nn.Module.dump_patches = True` and use the patch tool to revert the changes.\n",
      "  warnings.warn(msg, SourceChangeWarning)\n",
      "/root/miniconda3/lib/python3.7/site-packages/torch/serialization.py:454: SourceChangeWarning: source code of class 'torch.nn.modules.conv.ConvTranspose2d' has changed. you can retrieve the original source code by accessing the object's source attribute or set `torch.nn.Module.dump_patches = True` and use the patch tool to revert the changes.\n",
      "  warnings.warn(msg, SourceChangeWarning)\n"
     ]
    }
   ],
   "source": [
    "model = torch.load('ggcnn_weights_cornell/ggcnn_epoch_23_cornell')"
   ]
  },
  {
   "cell_type": "code",
   "execution_count": 4,
   "id": "a24b0028-9770-4d07-8ccf-23c1256ba783",
   "metadata": {},
   "outputs": [
    {
     "data": {
      "text/plain": [
       "GGCNN(\n",
       "  (conv1): Conv2d(1, 32, kernel_size=(9, 9), stride=(3, 3), padding=(3, 3))\n",
       "  (conv2): Conv2d(32, 16, kernel_size=(5, 5), stride=(2, 2), padding=(2, 2))\n",
       "  (conv3): Conv2d(16, 8, kernel_size=(3, 3), stride=(2, 2), padding=(1, 1))\n",
       "  (convt1): ConvTranspose2d(8, 8, kernel_size=(3, 3), stride=(2, 2), padding=(1, 1), output_padding=(1, 1))\n",
       "  (convt2): ConvTranspose2d(8, 16, kernel_size=(5, 5), stride=(2, 2), padding=(2, 2), output_padding=(1, 1))\n",
       "  (convt3): ConvTranspose2d(16, 32, kernel_size=(9, 9), stride=(3, 3), padding=(3, 3), output_padding=(1, 1))\n",
       "  (pos_output): Conv2d(32, 1, kernel_size=(2, 2), stride=(1, 1))\n",
       "  (cos_output): Conv2d(32, 1, kernel_size=(2, 2), stride=(1, 1))\n",
       "  (sin_output): Conv2d(32, 1, kernel_size=(2, 2), stride=(1, 1))\n",
       "  (width_output): Conv2d(32, 1, kernel_size=(2, 2), stride=(1, 1))\n",
       ")"
      ]
     },
     "execution_count": 4,
     "metadata": {},
     "output_type": "execute_result"
    }
   ],
   "source": [
    "model"
   ]
  },
  {
   "cell_type": "code",
   "execution_count": 5,
   "id": "41af7ae4-6c7e-4ad4-8435-1e784649dc46",
   "metadata": {},
   "outputs": [],
   "source": [
    "from models.ggcnn import GGCNN"
   ]
  },
  {
   "cell_type": "code",
   "execution_count": 6,
   "id": "b5b20609-2610-40e7-a005-030cb307fc48",
   "metadata": {},
   "outputs": [],
   "source": [
    "model = GGCNN()"
   ]
  },
  {
   "cell_type": "code",
   "execution_count": 7,
   "id": "4e9f6164-912d-44c5-823d-a7a03e38a60d",
   "metadata": {},
   "outputs": [
    {
     "data": {
      "text/plain": [
       "IncompatibleKeys(missing_keys=[], unexpected_keys=[])"
      ]
     },
     "execution_count": 7,
     "metadata": {},
     "output_type": "execute_result"
    }
   ],
   "source": [
    "model.load_state_dict(torch.load('ggcnn_weights_cornell/ggcnn_epoch_23_cornell_statedict.pt'))"
   ]
  },
  {
   "cell_type": "code",
   "execution_count": null,
   "id": "20637d92-e32b-4665-af25-184de05e04c7",
   "metadata": {},
   "outputs": [],
   "source": []
  }
 ],
 "metadata": {
  "kernelspec": {
   "display_name": "Python 3 (ipykernel)",
   "language": "python",
   "name": "python3"
  },
  "language_info": {
   "codemirror_mode": {
    "name": "ipython",
    "version": 3
   },
   "file_extension": ".py",
   "mimetype": "text/x-python",
   "name": "python",
   "nbconvert_exporter": "python",
   "pygments_lexer": "ipython3",
   "version": "3.7.9"
  }
 },
 "nbformat": 4,
 "nbformat_minor": 5
}
